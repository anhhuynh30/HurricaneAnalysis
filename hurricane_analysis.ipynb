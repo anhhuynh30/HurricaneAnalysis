{
 "cells": [
  {
   "cell_type": "markdown",
   "metadata": {},
   "source": [
    "# Hurricane Analysis"
   ]
  },
  {
   "cell_type": "code",
   "execution_count": 2,
   "metadata": {},
   "outputs": [],
   "source": [
    "# names of hurricanes\n",
    "names = ['Cuba I', 'San Felipe II Okeechobee', 'Bahamas', 'Cuba II', 'CubaBrownsville',\n",
    "'Tampico', 'Labor Day', 'New England', 'Carol', 'Janet', 'Carla', 'Hattie',\n",
    "'Beulah', 'Camille', 'Edith', 'Anita', 'David', 'Allen', 'Gilbert', 'Hugo',\n",
    "'Andrew', 'Mitch', 'Isabel', 'Ivan', 'Emily', 'Katrina', 'Rita', 'Wilma',\n",
    "'Dean', 'Felix', 'Matthew', 'Irma', 'Maria', 'Michael']\n",
    "\n",
    "# months of hurricanes\n",
    "months = ['October', 'September', 'September', 'November', 'August','September', \n",
    "'September', 'September', 'September', 'September', 'September', 'October',\n",
    "'September', 'August', 'September', 'September', 'August', 'August', \n",
    "'September', 'September', 'August', 'October', 'September', 'September', \n",
    "'July', 'August', 'September', 'October', 'August', 'September', 'October',\n",
    "'September', 'September', 'October']\n",
    "\n",
    "# years of hurricanes\n",
    "years = [1924, 1928, 1932, 1932, 1933, 1933, 1935, 1938, 1953, 1955, 1961, 1961,\n",
    "1967, 1969, 1971, 1977, 1979, 1980, 1988, 1989, 1992, 1998, 2003, 2004, \n",
    "2005, 2005, 2005, 2005, 2007, 2007, 2016, 2017, 2017, 2018]\n",
    "\n",
    "# maximum sustained winds (mph) of hurricanes\n",
    "max_sustained_winds = [165, 160, 160, 175, 160, 160, 185, 160, 160, 175, 175, 160,\n",
    "160, 175, 160, 175, 175, 190, 185, 160, 175, 180, 165, 165, 160, 175, 180, 185, 175, 175, 165, 180, 175, 160]\n",
    "\n",
    "# areas affected by each hurricane\n",
    "areas_affected = [['Central America', 'Mexico', 'Cuba', 'Florida', 'The Bahamas'],\n",
    "['Lesser Antilles', 'The Bahamas', 'United States East Coast', 'Atlantic Canada'], \n",
    "['The Bahamas', 'Northeastern United States'],\n",
    "['Lesser Antilles', 'Jamaica', 'Cayman Islands', 'Cuba', 'The Bahamas', 'Bermuda'], \n",
    "['The Bahamas', 'Cuba', 'Florida', 'Texas', 'Tamaulipas'], \n",
    "['Jamaica', 'Yucatn Peninsula'], \n",
    "['The Bahamas', 'Florida', 'Georgia', 'The Carolinas', 'Virginia'], \n",
    "['Southeastern United States', 'Northeastern United States', 'Southwestern Quebec'],\n",
    "['Bermuda', 'New England', 'Atlantic Canada'], ['Lesser Antilles', 'Central America'],\n",
    "['Texas', 'Louisiana', 'Midwestern United States'], ['Central America'], \n",
    "['The Caribbean', 'Mexico', 'Texas'], ['Cuba', 'United States Gulf Coast'],\n",
    "['The Caribbean', 'Central America', 'Mexico', 'United States Gulf Coast'],\n",
    "['Mexico'], ['The Caribbean', 'United States East coast'],\n",
    "['The Caribbean', 'Yucatn Peninsula', 'Mexico', 'South Texas'], \n",
    "['Jamaica', 'Venezuela', 'Central America', 'Hispaniola', 'Mexico'],\n",
    "['The Caribbean', 'United States East Coast'],\n",
    "['The Bahamas', 'Florida', 'United States Gulf Coast'],\n",
    "['Central America', 'Yucatn Peninsula', 'South Florida'],\n",
    "['Greater Antilles', 'Bahamas', 'Eastern United States', 'Ontario'],\n",
    "['The Caribbean', 'Venezuela', 'United States Gulf Coast'],\n",
    "['Windward Islands', 'Jamaica', 'Mexico', 'Texas'],\n",
    "['Bahamas', 'United States Gulf Coast'], ['Cuba', 'United States Gulf Coast'], \n",
    "['Greater Antilles', 'Central America', 'Florida'], ['The Caribbean', 'Central America'], \n",
    "['Nicaragua', 'Honduras'], ['Antilles', 'Venezuela', 'Colombia', 'United States East Coast', 'Atlantic Canada'], \n",
    "['Cape Verde', 'The Caribbean', 'British Virgin Islands', 'U.S. Virgin Islands', 'Cuba', 'Florida'], \n",
    "['Lesser Antilles', 'Virgin Islands', 'Puerto Rico', 'Dominican Republic', 'Turks and Caicos Islands'], \n",
    "['Central America', 'United States Gulf Coast (especially Florida Panhandle)']]"
   ]
  },
  {
   "cell_type": "markdown",
   "metadata": {},
   "source": [
    "## Task 1: Updating Damage list\n",
    "First, let's begin by looking at the **damages** list. The list contains strings representing the total cost in *USD($)* caused by *34* category 5 hurricanes (wind speeds ≥ 157 mph (252 km/h )) in the Atlantic region. For some of the hurricanes, damage data was not recorded (*\"Damages not recorded\"*), while the rest are written in the format *\"Prefix-B/M\"*, where *B* stands for *billions (1000000000)* and *M* stands for *millions (1000000)*."
   ]
  },
  {
   "cell_type": "markdown",
   "metadata": {},
   "source": []
  }
 ],
 "metadata": {
  "kernelspec": {
   "display_name": "Python 3.10.2 64-bit",
   "language": "python",
   "name": "python3"
  },
  "language_info": {
   "codemirror_mode": {
    "name": "ipython",
    "version": 3
   },
   "file_extension": ".py",
   "mimetype": "text/x-python",
   "name": "python",
   "nbconvert_exporter": "python",
   "pygments_lexer": "ipython3",
   "version": "3.10.2"
  },
  "orig_nbformat": 4,
  "vscode": {
   "interpreter": {
    "hash": "aee8b7b246df8f9039afb4144a1f6fd8d2ca17a180786b69acc140d282b71a49"
   }
  }
 },
 "nbformat": 4,
 "nbformat_minor": 2
}
