{
 "cells": [
  {
   "cell_type": "markdown",
   "metadata": {},
   "source": [
    "# Hurricane Analysis"
   ]
  },
  {
   "cell_type": "markdown",
   "metadata": {},
   "source": [
    "## Information of the data:\n",
    "The data collected on the 34 strongest Atlantic hurricanes are provided in a series of lists. The data includes:\n",
    "\n",
    "> 1. **name:** names of hurricanes\n",
    "> 2. **month:** months in which the hurricanes occurred\n",
    "> 3. **years:** years in which the hurricanes occurred\n",
    "> 4. **max_sustained_winds:** maximum sustained winds (miles per hour) of the hurricanes\n",
    "> 5. **areas_affected:** list of different areas affected by each of the hurricanes\n",
    "> 6. **damages:** cost in USD ($) caused by each of the hurricanes\n",
    "> 7. **deaths:** total number of deaths caused by each of the hurricanes\n",
    "\n",
    "The data is organized such that the data at each index, from **0** to **33**, corresponds to the same hurricane.\n",
    "\n",
    "For example, names[0] yields the “Cuba I” hurricane, which ouccred in months[0] (October) years[0] (1924)."
   ]
  },
  {
   "cell_type": "code",
   "execution_count": 4,
   "metadata": {},
   "outputs": [],
   "source": [
    "# names of hurricanes\n",
    "names = ['Cuba I', 'San Felipe II Okeechobee', 'Bahamas', 'Cuba II', 'CubaBrownsville',\n",
    "'Tampico', 'Labor Day', 'New England', 'Carol', 'Janet', 'Carla', 'Hattie',\n",
    "'Beulah', 'Camille', 'Edith', 'Anita', 'David', 'Allen', 'Gilbert', 'Hugo',\n",
    "'Andrew', 'Mitch', 'Isabel', 'Ivan', 'Emily', 'Katrina', 'Rita', 'Wilma',\n",
    "'Dean', 'Felix', 'Matthew', 'Irma', 'Maria', 'Michael']\n",
    "\n",
    "# months in which the hurricanes occured\n",
    "months = ['October', 'September', 'September', 'November', 'August','September', \n",
    "'September', 'September', 'September', 'September', 'September', 'October',\n",
    "'September', 'August', 'September', 'September', 'August', 'August', \n",
    "'September', 'September', 'August', 'October', 'September', 'September', \n",
    "'July', 'August', 'September', 'October', 'August', 'September', 'October',\n",
    "'September', 'September', 'October']\n",
    "\n",
    "# years in which the hurricanes occured\n",
    "years = [1924, 1928, 1932, 1932, 1933, 1933, 1935, 1938, 1953, 1955, 1961, 1961,\n",
    "1967, 1969, 1971, 1977, 1979, 1980, 1988, 1989, 1992, 1998, 2003, 2004, \n",
    "2005, 2005, 2005, 2005, 2007, 2007, 2016, 2017, 2017, 2018]\n",
    "\n",
    "# maximum sustained winds (mph = miles per hour) of hurricanes\n",
    "max_sustained_winds = [165, 160, 160, 175, 160, 160, 185, 160, 160, 175, 175, 160,\n",
    "160, 175, 160, 175, 175, 190, 185, 160, 175, 180, 165, 165, 160, 175, 180, 185, 175, 175, 165, 180, 175, 160]\n",
    "\n",
    "# list of different areas affected by each of the hurricanes\n",
    "areas_affected = [['Central America', 'Mexico', 'Cuba', 'Florida', 'The Bahamas'],\n",
    "['Lesser Antilles', 'The Bahamas', 'United States East Coast', 'Atlantic Canada'], \n",
    "['The Bahamas', 'Northeastern United States'],\n",
    "['Lesser Antilles', 'Jamaica', 'Cayman Islands', 'Cuba', 'The Bahamas', 'Bermuda'], \n",
    "['The Bahamas', 'Cuba', 'Florida', 'Texas', 'Tamaulipas'], \n",
    "['Jamaica', 'Yucatn Peninsula'], \n",
    "['The Bahamas', 'Florida', 'Georgia', 'The Carolinas', 'Virginia'], \n",
    "['Southeastern United States', 'Northeastern United States', 'Southwestern Quebec'],\n",
    "['Bermuda', 'New England', 'Atlantic Canada'], ['Lesser Antilles', 'Central America'],\n",
    "['Texas', 'Louisiana', 'Midwestern United States'], ['Central America'], \n",
    "['The Caribbean', 'Mexico', 'Texas'], ['Cuba', 'United States Gulf Coast'],\n",
    "['The Caribbean', 'Central America', 'Mexico', 'United States Gulf Coast'],\n",
    "['Mexico'], ['The Caribbean', 'United States East coast'],\n",
    "['The Caribbean', 'Yucatn Peninsula', 'Mexico', 'South Texas'], \n",
    "['Jamaica', 'Venezuela', 'Central America', 'Hispaniola', 'Mexico'],\n",
    "['The Caribbean', 'United States East Coast'],\n",
    "['The Bahamas', 'Florida', 'United States Gulf Coast'],\n",
    "['Central America', 'Yucatn Peninsula', 'South Florida'],\n",
    "['Greater Antilles', 'Bahamas', 'Eastern United States', 'Ontario'],\n",
    "['The Caribbean', 'Venezuela', 'United States Gulf Coast'],\n",
    "['Windward Islands', 'Jamaica', 'Mexico', 'Texas'],\n",
    "['Bahamas', 'United States Gulf Coast'], ['Cuba', 'United States Gulf Coast'], \n",
    "['Greater Antilles', 'Central America', 'Florida'], ['The Caribbean', 'Central America'], \n",
    "['Nicaragua', 'Honduras'], ['Antilles', 'Venezuela', 'Colombia', 'United States East Coast', 'Atlantic Canada'], \n",
    "['Cape Verde', 'The Caribbean', 'British Virgin Islands', 'U.S. Virgin Islands', 'Cuba', 'Florida'], \n",
    "['Lesser Antilles', 'Virgin Islands', 'Puerto Rico', 'Dominican Republic', 'Turks and Caicos Islands'], \n",
    "['Central America', 'United States Gulf Coast (especially Florida Panhandle)']]\n",
    "\n",
    "# damages (USD($)) of hurricanes\n",
    "damages = ['Damages not recorded', '100M', 'Damages not recorded', '40M', '27.9M', '5M', 'Damages not recorded', \n",
    "'306M', '2M', '65.8M', '326M', '60.3M', '208M', '1.42B', '25.4M', 'Damages not recorded', '1.54B', '1.24B', '7.1B', \n",
    "'10B', '26.5B', '6.2B', '5.37B', '23.3B', '1.01B', '125B', '12B', '29.4B', '1.76B', '720M', '15.1B', '64.8B', '91.6B', '25.1B']\n",
    "\n",
    "# total number of deaths caused by each of the hurricanes\n",
    "deaths = [90,4000,16,3103,179,184,408,682,5,1023,43,319,688,259,37,11,\n",
    "2068,269,318,107,65,19325,51,124,17,1836,125,87,45,133,603,138,3057,74]"
   ]
  },
  {
   "cell_type": "markdown",
   "metadata": {},
   "source": [
    "## Task 1: Updating Damage list\n",
    "First, let's begin by looking at the **damages** list. The list contains strings representing the total cost in *USD($)* caused by *34* category 5 hurricanes (wind speeds ≥ 157 mph (252 km/h )) in the Atlantic region. For some of the hurricanes, damage data was not recorded (*\"Damages not recorded\"*), while the rest are written in the format *\"Prefix-B/M\"*, where *B* stands for *billions (1000000000)* and *M* stands for *millions (1000000)*.\n",
    "\n",
    "In this first task, a function that returns a new list of updated damages will be written, where the recorded data is converted to **float values** and the missing data is retained as **\"Damages not recorded\"**."
   ]
  },
  {
   "cell_type": "code",
   "execution_count": 24,
   "metadata": {},
   "outputs": [],
   "source": [
    "# Function to update damages list:\n",
    "def update_damages(damages):\n",
    "\tupdated_damages_list = []\n",
    "\tconversion = {\"M\":1000000, \"B\" : 1000000000}\n",
    "\t\n",
    "\tfor damage in damages:\n",
    "\t\tif damage[-1] in conversion.keys():\n",
    "\t\t\tnew_value = float(damage[:-1]) * conversion[damage[-1]]\n",
    "\t\t\tupdated_damages_list.append(new_value)\n",
    "\t\telse:\n",
    "\t\t\tupdated_damages_list.append(\"Damages not recorded\")\n",
    "\t\n",
    "\treturn updated_damages_list"
   ]
  },
  {
   "cell_type": "code",
   "execution_count": 14,
   "metadata": {},
   "outputs": [
    {
     "name": "stdout",
     "output_type": "stream",
     "text": [
      "['Damages not recorded', 100000000.0, 'Damages not recorded', 40000000.0, 27900000.0, 5000000.0, 'Damages not recorded', 306000000.0, 2000000.0, 65800000.0, 326000000.0, 60300000.0, 208000000.0, 1420000000.0, 25400000.0, 'Damages not recorded', 1540000000.0, 1240000000.0, 7100000000.0, 10000000000.0, 26500000000.0, 6200000000.0, 5370000000.0, 23300000000.0, 1010000000.0, 125000000000.0, 12000000000.0, 29400000000.0, 1760000000.0, 720000000.0, 15100000000.0, 64800000000.0, 91600000000.0, 25100000000.0]\n"
     ]
    }
   ],
   "source": [
    "# Test the update_damages function\n",
    "updated_damages = update_damages(damages)\n",
    "print(updated_damages)"
   ]
  },
  {
   "cell_type": "markdown",
   "metadata": {},
   "source": [
    "## Task 2: Organzing Hurricanes by Name (Create Hurricanes by Name Dictionary)\n",
    "In this task, a function that constructs a dictionary made out of the 7 lists will be written. The keys of the dictionary are the names of the hurricanes, and the values are dictionries themselves containing a key for each piece of data **(Name, Month, Year,Max Sustained Wind, Areas Affected, Damage, Death)** about the hurricane.\n",
    "\n",
    "For instance, the key *\"Cuba I\"* would have the value: *{'Name': 'Cuba I', 'Month': 'October', 'Year': 1924, 'Max Sustained Wind': 165, 'Areas Affected': ['Central America', 'Mexico', 'Cuba', 'Florida', 'The Bahamas'], 'Damage': 'Damages not recorded', 'Deaths': 90}*."
   ]
  },
  {
   "cell_type": "code",
   "execution_count": 23,
   "metadata": {},
   "outputs": [],
   "source": [
    "# Function to construct a dictionary and organize hurricanes by name\n",
    "def hurricanes_dictionary_by_name(names, months, years, msw, areas_affected, damages, deaths):\n",
    "\thurricanes_by_name = {}\n",
    "\n",
    "\tfor i in range(len(names)):\n",
    "\t\thurricanes_by_name[names[i]] = {\"Name\" : names[i],\n",
    "\t\t\t\t\t\t\"Month\" : months[i],\n",
    "\t\t\t\t\t\t\"Year\" : years[i],\n",
    "\t\t\t\t\t\t\"Max Sustained Wind\" : msw[i],\n",
    "\t\t\t\t\t\t\"Areas Affected\" : areas_affected[i],\n",
    "\t\t\t\t\t\t\"Damage\" : damages[i],\n",
    "\t\t\t\t\t\t\"Death\" : deaths[i]}\n",
    "\treturn hurricanes_by_name"
   ]
  },
  {
   "cell_type": "code",
   "execution_count": 106,
   "metadata": {},
   "outputs": [
    {
     "name": "stdout",
     "output_type": "stream",
     "text": [
      "{'Name': 'Cuba II', 'Month': 'November', 'Year': 1932, 'Max Sustained Wind': 175, 'Areas Affected': ['Lesser Antilles', 'Jamaica', 'Cayman Islands', 'Cuba', 'The Bahamas', 'Bermuda'], 'Damage': 40000000.0, 'Death': 3103}\n"
     ]
    }
   ],
   "source": [
    "# Test hurricanes_dictionary_by_name function\n",
    "# Create hurricanes dictionary (organized by names)\n",
    "hurricanes_dictionary = hurricanes_dictionary_by_name(names,months,years, max_sustained_winds, areas_affected, updated_damages, deaths)\n",
    "print(hurricanes_dictionary['Cuba II'])"
   ]
  },
  {
   "cell_type": "markdown",
   "metadata": {},
   "source": [
    "## Task 3: Organzing Hurricanes by Year (Create Hurricanes by Year Dictionary)\n",
    "\n",
    "In this task, I will write a function that converts the current **hurricanes_dictionary** (created in task 2) to a new dictionary, where the keys are years and the values are lists containing a dictionary for each hurricane that occurred in that year.\n",
    "\n",
    "For example, the key *1932* would yield the value: *[{'Name': 'Bahamas', 'Month': 'September', 'Year': 1932, 'Max Sustained Wind': 160, 'Areas Affected': ['The Bahamas', 'Northeastern United States'], 'Damage': 'Damages not recorded', 'Deaths': 16}, {'Name': 'Cuba II', 'Month': 'November', 'Year': 1932, 'Max Sustained Wind': 175, 'Areas Affected': ['Lesser Antilles', 'Jamaica', 'Cayman Islands', 'Cuba', 'The Bahamas', 'Bermuda'], 'Damage': 40000000.0, 'Deaths': 3103}]*.\n"
   ]
  },
  {
   "cell_type": "code",
   "execution_count": 30,
   "metadata": {},
   "outputs": [],
   "source": [
    "#print(hurricanes_dictionary['Michael']['Year']) # Same format for current_year = hurricanes_dict[hurricane]['Year']\n",
    "#print(hurricanes_dictionary['Michael']) # current_hurricane = hurricanes_dict[hurricane]"
   ]
  },
  {
   "cell_type": "code",
   "execution_count": 54,
   "metadata": {},
   "outputs": [],
   "source": [
    "# Function to organize hurricanes by year based on the current hurricanes_dictionary\n",
    "\n",
    "def hurricanes_dictionary_by_year(hurricanes_dict):\n",
    "\t# Convert hurricanes_dictionary (with hurricane's names as key) to a new dictionary that has year as the key\n",
    "\thurricanes_by_year = {}\n",
    "\n",
    "\tfor hurricane in hurricanes_dict:\n",
    "\t\tcurrent_year = hurricanes_dict[hurricane]['Year'] # Store the year of the hurricane to current_year\n",
    "\t\tcurrent_hurricane = hurricanes_dict[hurricane] # Store the data of the hurricane to current_hurricane\n",
    "\t\t# If the current year is not yet existed in the hurricanes_by_year dict,\n",
    "\t\t# then create the new key with that year and assign its value with tha data store in current_hurricane\n",
    "\t\tif current_year not in hurricanes_by_year:\n",
    "\t\t\thurricanes_by_year[current_year] = [current_hurricane]\n",
    "\t\t# If the year already existed in the hurricanes_by_year dict, then append new value for that year key\n",
    "\t\telse:\n",
    "\t\t\thurricanes_by_year[current_year].append(current_hurricane)\n",
    "\t\n",
    "\treturn hurricanes_by_year"
   ]
  },
  {
   "cell_type": "code",
   "execution_count": 55,
   "metadata": {},
   "outputs": [
    {
     "name": "stdout",
     "output_type": "stream",
     "text": [
      "[{'Name': 'Irma', 'Month': 'September', 'Year': 2017, 'Max Sustained Wind': 180, 'Areas Affected': ['Cape Verde', 'The Caribbean', 'British Virgin Islands', 'U.S. Virgin Islands', 'Cuba', 'Florida'], 'Damage': 64800000000.0, 'Death': 138}, {'Name': 'Maria', 'Month': 'September', 'Year': 2017, 'Max Sustained Wind': 175, 'Areas Affected': ['Lesser Antilles', 'Virgin Islands', 'Puerto Rico', 'Dominican Republic', 'Turks and Caicos Islands'], 'Damage': 91600000000.0, 'Death': 3057}]\n",
      "\n",
      "{'Name': 'Irma', 'Month': 'September', 'Year': 2017, 'Max Sustained Wind': 180, 'Areas Affected': ['Cape Verde', 'The Caribbean', 'British Virgin Islands', 'U.S. Virgin Islands', 'Cuba', 'Florida'], 'Damage': 64800000000.0, 'Death': 138}\n"
     ]
    }
   ],
   "source": [
    "# Test  hurricanes_dictionary_by_year function\n",
    "# Create hurricanes dictionary (organized by years)\n",
    "hurricanes_by_year = hurricanes_dictionary_by_year(hurricanes_dictionary)\n",
    "print(hurricanes_by_year[2017]) # There are 2 hurricanes happened in 2017\n",
    "print('')\n",
    "print(hurricanes_by_year[2017][0]) # Access to the first value of the year key 2017"
   ]
  },
  {
   "cell_type": "markdown",
   "metadata": {},
   "source": [
    "## Task 4: Count Affected Areas\n",
    "It is crucial to know how often each of the areas of the Atlantic are affected by these strong hurricanes with the aims to make preparations for future events.\n",
    "\n",
    "In this task, a function that counts how often each area is listed as an affected area of a hurricane will be written. The results will be stored in a dictionary where the keys are the affected areas and the values are the counts of how many times the areas were afftected."
   ]
  },
  {
   "cell_type": "code",
   "execution_count": 57,
   "metadata": {},
   "outputs": [],
   "source": [
    "# Funtion to create dictionary of areas to store the number of hurricanes involved in based on hurricanes_dictionary (created in task 2)\n",
    "def areas_affected_count(hurricanes_dict):\n",
    "\tcount_affected_areas = {}\n",
    "\n",
    "\tfor hurricane in hurricanes_dict:\n",
    "\t\tfor area in hurricanes_dict[hurricane]['Areas Affected']:\n",
    "\t\t\t# If the area not yet existed in the count_affected_areas dict, create the key for that area and assign 1 \n",
    "\t\t\tif area not in count_affected_areas:\n",
    "\t\t\t\tcount_affected_areas[area] = 1\n",
    "\t\t\t# If the area already existed, then plus 1 on the top of the current value for that area\n",
    "\t\t\telse: \n",
    "\t\t\t\tcount_affected_areas[area] += 1\n",
    "\t\n",
    "\treturn count_affected_areas"
   ]
  },
  {
   "cell_type": "code",
   "execution_count": 74,
   "metadata": {},
   "outputs": [
    {
     "name": "stdout",
     "output_type": "stream",
     "text": [
      "{'Central America': 9, 'Mexico': 7, 'Cuba': 6, 'Florida': 6, 'The Bahamas': 7, 'Lesser Antilles': 4, 'United States East Coast': 3, 'Atlantic Canada': 3, 'Northeastern United States': 2, 'Jamaica': 4, 'Cayman Islands': 1, 'Bermuda': 2, 'Texas': 4, 'Tamaulipas': 1, 'Yucatn Peninsula': 3, 'Georgia': 1, 'The Carolinas': 1, 'Virginia': 1, 'Southeastern United States': 1, 'Southwestern Quebec': 1, 'New England': 1, 'Louisiana': 1, 'Midwestern United States': 1, 'The Caribbean': 8, 'United States Gulf Coast': 6, 'United States East coast': 1, 'South Texas': 1, 'Venezuela': 3, 'Hispaniola': 1, 'South Florida': 1, 'Greater Antilles': 2, 'Bahamas': 2, 'Eastern United States': 1, 'Ontario': 1, 'Windward Islands': 1, 'Nicaragua': 1, 'Honduras': 1, 'Antilles': 1, 'Colombia': 1, 'Cape Verde': 1, 'British Virgin Islands': 1, 'U.S. Virgin Islands': 1, 'Virgin Islands': 1, 'Puerto Rico': 1, 'Dominican Republic': 1, 'Turks and Caicos Islands': 1, 'United States Gulf Coast (especially Florida Panhandle)': 1}\n"
     ]
    }
   ],
   "source": [
    "# Test areas_affected_count function\n",
    "affected_areas_count_dictionary = areas_affected_count(hurricanes_dictionary)\n",
    "print(affected_areas_count_dictionary)"
   ]
  },
  {
   "cell_type": "markdown",
   "metadata": {},
   "source": [
    "## Task 5: Find the Most Frequently Affected Area\n",
    "\n",
    "Now, I already have the dictionary that shows the how often each area of the Atlantic is affected by the hurricanes (task 4). Next, I would like to know which area is affected most frequently. In this task, a funtion that finds the area affected by the most hurricanes, and how often it was hit will be written."
   ]
  },
  {
   "cell_type": "code",
   "execution_count": 80,
   "metadata": {},
   "outputs": [],
   "source": [
    "# Funtion to find the most frequently affected area based on the affected_areas_count_dictionary (in task 4)\n",
    "def find_most_affected_area(affected_areas_count_dict):\n",
    "\tmost_affected_area = 'Central America' # Assume Central Amarica is the most affected area\n",
    "\tmost_affected_area_count = 0 # Initialize as 0\n",
    "\t\n",
    "\tfor area in affected_areas_count_dict:\n",
    "\t\tif affected_areas_count_dict[area] > most_affected_area_count:\n",
    "\t\t\tmost_affected_area = area\n",
    "\t\t\tmost_affected_area_count = affected_areas_count_dict[area]\n",
    "\treturn f'The most affected area is {most_affected_area} with {most_affected_area_count} hits.'"
   ]
  },
  {
   "cell_type": "code",
   "execution_count": 81,
   "metadata": {},
   "outputs": [
    {
     "name": "stdout",
     "output_type": "stream",
     "text": [
      "The most affected area is Central America with 9 hits.\n"
     ]
    }
   ],
   "source": [
    "most_affected_area = find_most_affected_area(affected_areas_count_dictionary)\n",
    "print(most_affected_area)"
   ]
  },
  {
   "cell_type": "markdown",
   "metadata": {},
   "source": [
    "## Task 6: Find the Deadliest Hurricane\n",
    "In this task, I will write a function that finds the hurricane that caused the greatest number of deaths and how many deaths it caused."
   ]
  },
  {
   "cell_type": "code",
   "execution_count": 82,
   "metadata": {},
   "outputs": [],
   "source": [
    "# Function to find highest mortality hurricane and the number of deaths\n",
    "\n",
    "def find_deadliest_hurricane(hurricanes_dict):\n",
    "\tdeadliest_hurricane = 'Cuba I' # Assume Cuba I hurricane is the dealiest hurricane\n",
    "\thighest_death = 0\n",
    "\n",
    "\tfor hurricane in hurricanes_dict:\n",
    "\t\tif hurricanes_dict[hurricane]['Death'] > highest_death:\n",
    "\t\t\tdeadliest_hurricane = hurricane\n",
    "\t\t\thighest_death = hurricanes_dict[hurricane]['Death']\n",
    "\treturn f'The highest mortality hurricane is {deadliest_hurricane} with {highest_death} deaths.'"
   ]
  },
  {
   "cell_type": "code",
   "execution_count": 84,
   "metadata": {},
   "outputs": [
    {
     "name": "stdout",
     "output_type": "stream",
     "text": [
      "The highest mortality hurricane is Mitch with 19325 deaths.\n"
     ]
    }
   ],
   "source": [
    "# Test the find_deadliest_hurricane function\n",
    "deadliest_hurricane = find_deadliest_hurricane(hurricanes_dictionary)\n",
    "print(deadliest_hurricane)"
   ]
  },
  {
   "cell_type": "markdown",
   "metadata": {},
   "source": [
    "## Task 7: Rate Hurricanes by Mortality\n",
    "In this task, I will write a function that rates hurricanes on a mortaility scale according to the following ratings, where the key is the rating and the value is the upper bound of deaths for that rating.\n",
    "\n",
    "Rate **0**: Hurricanes that caused **no** deaths.\n",
    "\n",
    "Rate **1**: Hurricanes that caused less than or equal to **100** deaths.\n",
    "\n",
    "Rate **2**: Hurricanes that caused less than or equal to **500** deaths.\n",
    "\n",
    "Rate **3**: Hurricanes that caused less than or equal to **1000** deaths.\n",
    "\n",
    "Rate **4**: Hurricanes that caused less than or equal to **10000** deaths.\n",
    "\n",
    "Rate **5**: Hurricanes that caused more than **10000** deaths."
   ]
  },
  {
   "cell_type": "code",
   "execution_count": 93,
   "metadata": {},
   "outputs": [],
   "source": [
    "# Function to categorize hurricanes in new dictionary with mortality severity as key\n",
    "def categorize_hurricanes_by_deaths(hurricanes_dict):\n",
    "\tmortality_rating_dict = {0: [], 1: [], 2: [], 3: [], 4: [], 5:[]}\n",
    "\tmortality_scale = {0: 0,\n",
    "                   1: 100,\n",
    "                   2: 500,\n",
    "                   3: 1000,\n",
    "                   4: 10000}\n",
    "\t\t\t\t   \n",
    "\tfor hurricane in hurricanes_dict:\n",
    "\t\tif hurricanes_dict[hurricane]['Death'] <= mortality_scale[0]:\n",
    "\t\t\tmortality_rating_dict[0].append(hurricane)\n",
    "\t\telif hurricanes_dict[hurricane]['Death'] <= mortality_scale[1]:\n",
    "\t\t\tmortality_rating_dict[1].append(hurricane)\n",
    "\t\telif hurricanes_dict[hurricane]['Death'] <= mortality_scale[2]:\n",
    "\t\t\tmortality_rating_dict[2].append(hurricane)\n",
    "\t\telif hurricanes_dict[hurricane]['Death'] <= mortality_scale[3]:\n",
    "\t\t\tmortality_rating_dict[3].append(hurricane)\n",
    "\t\telif hurricanes_dict[hurricane]['Death'] <= mortality_scale[4]:\n",
    "\t\t\tmortality_rating_dict[4].append(hurricane)\n",
    "\t\telse:\n",
    "\t\t\tmortality_rating_dict[5].append(hurricane)\n",
    "\t\n",
    "\treturn mortality_rating_dict"
   ]
  },
  {
   "cell_type": "code",
   "execution_count": 87,
   "metadata": {},
   "outputs": [
    {
     "name": "stdout",
     "output_type": "stream",
     "text": [
      "{0: [], 1: ['Cuba I', 'Bahamas', 'Carol', 'Carla', 'Edith', 'Anita', 'Andrew', 'Isabel', 'Emily', 'Wilma', 'Dean', 'Michael'], 2: ['CubaBrownsville', 'Tampico', 'Labor Day', 'Hattie', 'Camille', 'Allen', 'Gilbert', 'Hugo', 'Ivan', 'Rita', 'Felix', 'Irma'], 3: ['New England', 'Beulah', 'Matthew'], 4: ['San Felipe II Okeechobee', 'Cuba II', 'Janet', 'David', 'Katrina', 'Maria'], 5: ['Mitch']}\n"
     ]
    }
   ],
   "source": [
    "mortality_rating_dictionary = categorize_hurricanes_by_deaths(hurricanes_dictionary)\n",
    "print(mortality_rating_dictionary)"
   ]
  },
  {
   "cell_type": "markdown",
   "metadata": {},
   "source": [
    "## Task 8: Find the Most Damaged Hurricane\n",
    "\n",
    "A function finding the hurricane that caused the greatest damage, and how costly it was will be written in this task."
   ]
  },
  {
   "cell_type": "code",
   "execution_count": 107,
   "metadata": {},
   "outputs": [],
   "source": [
    "# Function to find the greatest damaged hurricane and its cost\n",
    "def find_greatest_damaged_hurricane(hurricanes_dict):\n",
    "\tgreatest_damaged_hurricane = 'Cuba I'\n",
    "\tgreatest_cost = float(0)\n",
    "\n",
    "\tfor hurricane in hurricanes_dict:\n",
    "\t\t# To avoid the hurricane with the value of \"Damages not recorded\"\n",
    "\t\tif not isinstance(hurricanes_dict[hurricane]['Damage'], str): \n",
    "\t\t\tif hurricanes_dict[hurricane]['Damage'] > greatest_cost:\n",
    "\t\t\t\tgreatest_damaged_hurricane = hurricane\n",
    "\t\t\t\tgreatest_cost = hurricanes_dict[hurricane]['Damage']\n",
    "\t\n",
    "\treturn f'The hurricane causing the greatest damage is {greatest_damaged_hurricane} with the total cost of {greatest_cost} $.'"
   ]
  },
  {
   "cell_type": "code",
   "execution_count": 92,
   "metadata": {},
   "outputs": [
    {
     "name": "stdout",
     "output_type": "stream",
     "text": [
      "The hurricane causing the greatest damage is Katrina with the total cost of 125000000000.0 $.\n"
     ]
    }
   ],
   "source": [
    "greatest_damaged_hurricane = find_greatest_damaged_hurricane(hurricanes_dictionary)\n",
    "print(greatest_damaged_hurricane)"
   ]
  },
  {
   "cell_type": "markdown",
   "metadata": {},
   "source": [
    "## Task 9: Rate Hurricances by Damage Cost\n",
    "In the last task, I will write a function that rates hurricanes on a damage scale according to the following ratings, where the key is the rating and the value is the upper bound of damage for that rating.\n",
    "\n",
    "Rate **0**: Hurricanes that caused **no** costs.\n",
    "\n",
    "Rate **1**: Hurricanes that caused the total cost of less than or equal to **100000000$** (100M).\n",
    "\n",
    "Rate **2**: Hurricanes that caused the total cost of less than or equal to **1000000000$** (1B).\n",
    "\n",
    "Rate **3**: Hurricanes that caused the total cost of less than or equal to **10000000000$** (10B).\n",
    "\n",
    "Rate **4**: Hurricanes that caused the total cost of less than or equal to **50000000000$** (50B).\n",
    "\n",
    "Rate **5**: Hurricanes that caused the total cost of more than **50000000000$** (50B).\n",
    "\n",
    "**Damages not recorded**: Hurricanes that has no damages recorded."
   ]
  },
  {
   "cell_type": "code",
   "execution_count": 108,
   "metadata": {},
   "outputs": [],
   "source": [
    "# Function to the categorize hurricanes in new dictionary with damage severity as key\n",
    "def categorize_hurricanes_by_damage(hurricanes_dict):\n",
    "\tdamage_rating_dict = {0: [],\n",
    "\t\t\t\t\t1: [], \n",
    "\t\t\t\t\t2: [], \n",
    "\t\t\t\t\t3: [], \n",
    "\t\t\t\t\t4: [], \n",
    "\t\t\t\t\t5: [], \n",
    "\t\t\t\t\t\"Damages not recorded\" :[]}\n",
    "\tdamage_scale = {0: 0,\n",
    "                1: 100000000,\n",
    "                2: 1000000000,\n",
    "                3: 10000000000,\n",
    "                4: 50000000000}\n",
    "\t\n",
    "\tfor hurricane in hurricanes_dict:\n",
    "\t\t# To avoid the hurricane with the value of \"Damages not recorded\"\n",
    "\t\tif not isinstance(hurricanes_dict[hurricane]['Damage'], str):\n",
    "\t\t\tif hurricanes_dict[hurricane]['Damage'] <= damage_scale[0]:\n",
    "\t\t\t\tdamage_rating_dict[0].append(hurricane)\n",
    "\t\t\telif hurricanes_dict[hurricane]['Damage'] <= damage_scale[1]:\n",
    "\t\t\t\tdamage_rating_dict[1].append(hurricane)\n",
    "\t\t\telif hurricanes_dict[hurricane]['Damage'] <= damage_scale[2]:\n",
    "\t\t\t\tdamage_rating_dict[2].append(hurricane)\n",
    "\t\t\telif hurricanes_dict[hurricane]['Damage'] <= damage_scale[3]:\n",
    "\t\t\t\tdamage_rating_dict[3].append(hurricane)\n",
    "\t\t\telif hurricanes_dict[hurricane]['Damage'] <= damage_scale[4]:\n",
    "\t\t\t\tdamage_rating_dict[4].append(hurricane)\n",
    "\t\t\telse:\n",
    "\t\t\t\tdamage_rating_dict[5].append(hurricane)\n",
    "\t\telse: # Names of hurricane with the value of \"Damages not recorded\" will be append here\n",
    "\t\t\tdamage_rating_dict[\"Damages not recorded\"].append(hurricane)\n",
    "\n",
    "\treturn damage_rating_dict\t\t"
   ]
  },
  {
   "cell_type": "code",
   "execution_count": 111,
   "metadata": {},
   "outputs": [
    {
     "name": "stdout",
     "output_type": "stream",
     "text": [
      "{0: [], 1: ['San Felipe II Okeechobee', 'Cuba II', 'CubaBrownsville', 'Tampico', 'Carol', 'Janet', 'Hattie', 'Edith'], 2: ['New England', 'Carla', 'Beulah', 'Felix'], 3: ['Camille', 'David', 'Allen', 'Gilbert', 'Hugo', 'Mitch', 'Isabel', 'Emily', 'Dean'], 4: ['Andrew', 'Ivan', 'Rita', 'Wilma', 'Matthew', 'Michael'], 5: ['Katrina', 'Irma', 'Maria'], 'Damages not recorded': ['Cuba I', 'Bahamas', 'Labor Day', 'Anita']}\n"
     ]
    }
   ],
   "source": [
    "damage_rating_dictionary = categorize_hurricanes_by_damage(hurricanes_dictionary)\n",
    "print(damage_rating_dictionary)"
   ]
  }
 ],
 "metadata": {
  "kernelspec": {
   "display_name": "Python 3.10.2 64-bit",
   "language": "python",
   "name": "python3"
  },
  "language_info": {
   "codemirror_mode": {
    "name": "ipython",
    "version": 3
   },
   "file_extension": ".py",
   "mimetype": "text/x-python",
   "name": "python",
   "nbconvert_exporter": "python",
   "pygments_lexer": "ipython3",
   "version": "3.10.2"
  },
  "orig_nbformat": 4,
  "vscode": {
   "interpreter": {
    "hash": "aee8b7b246df8f9039afb4144a1f6fd8d2ca17a180786b69acc140d282b71a49"
   }
  }
 },
 "nbformat": 4,
 "nbformat_minor": 2
}
