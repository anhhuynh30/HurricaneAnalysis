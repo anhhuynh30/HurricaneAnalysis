{
 "cells": [
  {
   "cell_type": "markdown",
   "metadata": {},
   "source": [
    "# Hurricane Analysis"
   ]
  },
  {
   "cell_type": "markdown",
   "metadata": {},
   "source": [
    "## Information of the data:\n",
    "The data collected on the 34 strongest Atlantic hurricanes are provided in a series of lists. The data includes:\n",
    "\n",
    "> 1. **name:** names of hurricanes\n",
    "> 2. **month:** months in which the hurricanes occurred\n",
    "> 3. **years:** years in which the hurricanes occurred\n",
    "> 4. **max_sustained_winds:** maximum sustained winds (miles per hour) of the hurricanes\n",
    "> 5. **areas_affected:** list of different areas affected by each of the hurricanes\n",
    "> 6. **damages:** cost in USD ($) caused by each of the hurricanes\n",
    "> 7. **deaths:** total number of deaths caused by each of the hurricanes\n",
    "\n",
    "The data is organized such that the data at each index, from **0** to **33**, corresponds to the same hurricane.\n",
    "\n",
    "For example, names[0] yields the “Cuba I” hurricane, which ouccred in months[0] (October) years[0] (1924)."
   ]
  },
  {
   "cell_type": "code",
   "execution_count": 4,
   "metadata": {},
   "outputs": [],
   "source": [
    "# names of hurricanes\n",
    "names = ['Cuba I', 'San Felipe II Okeechobee', 'Bahamas', 'Cuba II', 'CubaBrownsville',\n",
    "'Tampico', 'Labor Day', 'New England', 'Carol', 'Janet', 'Carla', 'Hattie',\n",
    "'Beulah', 'Camille', 'Edith', 'Anita', 'David', 'Allen', 'Gilbert', 'Hugo',\n",
    "'Andrew', 'Mitch', 'Isabel', 'Ivan', 'Emily', 'Katrina', 'Rita', 'Wilma',\n",
    "'Dean', 'Felix', 'Matthew', 'Irma', 'Maria', 'Michael']\n",
    "\n",
    "# months in which the hurricanes occured\n",
    "months = ['October', 'September', 'September', 'November', 'August','September', \n",
    "'September', 'September', 'September', 'September', 'September', 'October',\n",
    "'September', 'August', 'September', 'September', 'August', 'August', \n",
    "'September', 'September', 'August', 'October', 'September', 'September', \n",
    "'July', 'August', 'September', 'October', 'August', 'September', 'October',\n",
    "'September', 'September', 'October']\n",
    "\n",
    "# years in which the hurricanes occured\n",
    "years = [1924, 1928, 1932, 1932, 1933, 1933, 1935, 1938, 1953, 1955, 1961, 1961,\n",
    "1967, 1969, 1971, 1977, 1979, 1980, 1988, 1989, 1992, 1998, 2003, 2004, \n",
    "2005, 2005, 2005, 2005, 2007, 2007, 2016, 2017, 2017, 2018]\n",
    "\n",
    "# maximum sustained winds (mph = miles per hour) of hurricanes\n",
    "max_sustained_winds = [165, 160, 160, 175, 160, 160, 185, 160, 160, 175, 175, 160,\n",
    "160, 175, 160, 175, 175, 190, 185, 160, 175, 180, 165, 165, 160, 175, 180, 185, 175, 175, 165, 180, 175, 160]\n",
    "\n",
    "# list of different areas affected by each of the hurricanes\n",
    "areas_affected = [['Central America', 'Mexico', 'Cuba', 'Florida', 'The Bahamas'],\n",
    "['Lesser Antilles', 'The Bahamas', 'United States East Coast', 'Atlantic Canada'], \n",
    "['The Bahamas', 'Northeastern United States'],\n",
    "['Lesser Antilles', 'Jamaica', 'Cayman Islands', 'Cuba', 'The Bahamas', 'Bermuda'], \n",
    "['The Bahamas', 'Cuba', 'Florida', 'Texas', 'Tamaulipas'], \n",
    "['Jamaica', 'Yucatn Peninsula'], \n",
    "['The Bahamas', 'Florida', 'Georgia', 'The Carolinas', 'Virginia'], \n",
    "['Southeastern United States', 'Northeastern United States', 'Southwestern Quebec'],\n",
    "['Bermuda', 'New England', 'Atlantic Canada'], ['Lesser Antilles', 'Central America'],\n",
    "['Texas', 'Louisiana', 'Midwestern United States'], ['Central America'], \n",
    "['The Caribbean', 'Mexico', 'Texas'], ['Cuba', 'United States Gulf Coast'],\n",
    "['The Caribbean', 'Central America', 'Mexico', 'United States Gulf Coast'],\n",
    "['Mexico'], ['The Caribbean', 'United States East coast'],\n",
    "['The Caribbean', 'Yucatn Peninsula', 'Mexico', 'South Texas'], \n",
    "['Jamaica', 'Venezuela', 'Central America', 'Hispaniola', 'Mexico'],\n",
    "['The Caribbean', 'United States East Coast'],\n",
    "['The Bahamas', 'Florida', 'United States Gulf Coast'],\n",
    "['Central America', 'Yucatn Peninsula', 'South Florida'],\n",
    "['Greater Antilles', 'Bahamas', 'Eastern United States', 'Ontario'],\n",
    "['The Caribbean', 'Venezuela', 'United States Gulf Coast'],\n",
    "['Windward Islands', 'Jamaica', 'Mexico', 'Texas'],\n",
    "['Bahamas', 'United States Gulf Coast'], ['Cuba', 'United States Gulf Coast'], \n",
    "['Greater Antilles', 'Central America', 'Florida'], ['The Caribbean', 'Central America'], \n",
    "['Nicaragua', 'Honduras'], ['Antilles', 'Venezuela', 'Colombia', 'United States East Coast', 'Atlantic Canada'], \n",
    "['Cape Verde', 'The Caribbean', 'British Virgin Islands', 'U.S. Virgin Islands', 'Cuba', 'Florida'], \n",
    "['Lesser Antilles', 'Virgin Islands', 'Puerto Rico', 'Dominican Republic', 'Turks and Caicos Islands'], \n",
    "['Central America', 'United States Gulf Coast (especially Florida Panhandle)']]\n",
    "\n",
    "# damages (USD($)) of hurricanes\n",
    "damages = ['Damages not recorded', '100M', 'Damages not recorded', '40M', '27.9M', '5M', 'Damages not recorded', \n",
    "'306M', '2M', '65.8M', '326M', '60.3M', '208M', '1.42B', '25.4M', 'Damages not recorded', '1.54B', '1.24B', '7.1B', \n",
    "'10B', '26.5B', '6.2B', '5.37B', '23.3B', '1.01B', '125B', '12B', '29.4B', '1.76B', '720M', '15.1B', '64.8B', '91.6B', '25.1B']\n",
    "\n",
    "# total number of deaths caused by each of the hurricanes\n",
    "deaths = [90,4000,16,3103,179,184,408,682,5,1023,43,319,688,259,37,11,\n",
    "2068,269,318,107,65,19325,51,124,17,1836,125,87,45,133,603,138,3057,74]"
   ]
  },
  {
   "cell_type": "markdown",
   "metadata": {},
   "source": [
    "## Task 1: Updating Damage list\n",
    "First, let's begin by looking at the **damages** list. The list contains strings representing the total cost in *USD($)* caused by *34* category 5 hurricanes (wind speeds ≥ 157 mph (252 km/h )) in the Atlantic region. For some of the hurricanes, damage data was not recorded (*\"Damages not recorded\"*), while the rest are written in the format *\"Prefix-B/M\"*, where *B* stands for *billions (1000000000)* and *M* stands for *millions (1000000)*.\n",
    "\n",
    "In this first task, a function that returns a new list of updated damages will be written, where the recorded data is converted to **float values** and the missing data is retained as **\"Damages not recorded\"**."
   ]
  },
  {
   "cell_type": "code",
   "execution_count": 11,
   "metadata": {},
   "outputs": [],
   "source": [
    "# Function to update damages list:\n",
    "def update_damages(damages):\n",
    "\tupdated_damages_list = []\n",
    "\tconversion = {\"M\":1000000, \n",
    "\t\t\t\t\"B\" : 1000000000}\n",
    "\t\n",
    "\tfor damage in damages:\n",
    "\t\tif damage[-1] in conversion.keys():\n",
    "\t\t\tnew_value = float(damage[:-1]) * conversion[damage[-1]]\n",
    "\t\t\tupdated_damages_list.append(new_value)\n",
    "\t\telse:\n",
    "\t\t\tupdated_damages_list.append(\"Damages not recorded\")\n",
    "\t\n",
    "\treturn updated_damages_list"
   ]
  },
  {
   "cell_type": "code",
   "execution_count": 14,
   "metadata": {},
   "outputs": [
    {
     "name": "stdout",
     "output_type": "stream",
     "text": [
      "['Damages not recorded', 100000000.0, 'Damages not recorded', 40000000.0, 27900000.0, 5000000.0, 'Damages not recorded', 306000000.0, 2000000.0, 65800000.0, 326000000.0, 60300000.0, 208000000.0, 1420000000.0, 25400000.0, 'Damages not recorded', 1540000000.0, 1240000000.0, 7100000000.0, 10000000000.0, 26500000000.0, 6200000000.0, 5370000000.0, 23300000000.0, 1010000000.0, 125000000000.0, 12000000000.0, 29400000000.0, 1760000000.0, 720000000.0, 15100000000.0, 64800000000.0, 91600000000.0, 25100000000.0]\n"
     ]
    }
   ],
   "source": [
    "# Test the update_damages function\n",
    "updated_damages = update_damages(damages)\n",
    "print(updated_damages)"
   ]
  }
 ],
 "metadata": {
  "kernelspec": {
   "display_name": "Python 3.10.2 64-bit",
   "language": "python",
   "name": "python3"
  },
  "language_info": {
   "codemirror_mode": {
    "name": "ipython",
    "version": 3
   },
   "file_extension": ".py",
   "mimetype": "text/x-python",
   "name": "python",
   "nbconvert_exporter": "python",
   "pygments_lexer": "ipython3",
   "version": "3.10.2"
  },
  "orig_nbformat": 4,
  "vscode": {
   "interpreter": {
    "hash": "aee8b7b246df8f9039afb4144a1f6fd8d2ca17a180786b69acc140d282b71a49"
   }
  }
 },
 "nbformat": 4,
 "nbformat_minor": 2
}
